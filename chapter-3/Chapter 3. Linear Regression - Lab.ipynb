{
 "cells": [
  {
   "cell_type": "markdown",
   "id": "57ccec82-db9d-4c42-b6b8-30e5a2878afd",
   "metadata": {},
   "source": [
    "# Chapter 3. Linear Regression - Lab\n",
    "\n",
    "- [3.6 Lab: Linear regression](#Lab:-Linear-regression)\n",
    "    - [Is there a relationship between the median house price and the predictors?](#Is-there-a-relationship-between-the-median-house-price-and-the-predictors?)\n",
    "    - [How strong is the relationship?](#How-strong-is-the-relationship?)\n",
    "    - [Which predictors are associated with the outcome?](#Which-predictors-are-associated-with-the-outcome?)\n",
    "    - [How large is the association between the predictors and the outcome?](#How-large-is-the-association-between-the-predictors-and-the-outcome?)\n",
    "    - [How accurately can we predict the median house price?](#How-accurately-can-we-predict-the-median-house-price?)\n",
    "    - [Is the relationship linear?](#Is-the-relationship-linear?)"
   ]
  },
  {
   "cell_type": "markdown",
   "id": "c1af8802-7d3d-4bd4-a58e-568e8a75ddb1",
   "metadata": {},
   "source": [
    "## Lab: Linear Regression"
   ]
  },
  {
   "cell_type": "code",
   "execution_count": 1,
   "id": "bc09841d-e167-4154-a2b3-4dcb1161448f",
   "metadata": {},
   "outputs": [],
   "source": [
    "import pandas as pd\n",
    "import numpy as np\n",
    "import statsmodels.api as sm\n",
    "import matplotlib.pyplot as plt\n",
    "import seaborn as sb\n",
    "from patsy import dmatrices"
   ]
  },
  {
   "cell_type": "code",
   "execution_count": 2,
   "id": "cf23ccd6-6947-4dae-8ac5-ce6130c90450",
   "metadata": {},
   "outputs": [],
   "source": [
    "boston_df = pd.read_csv('../data/boston.csv', index_col=0)"
   ]
  },
  {
   "cell_type": "code",
   "execution_count": 3,
   "id": "74b5a547-25d0-4a08-9b5a-3e5925ab735f",
   "metadata": {},
   "outputs": [
    {
     "data": {
      "text/html": [
       "<div>\n",
       "<style scoped>\n",
       "    .dataframe tbody tr th:only-of-type {\n",
       "        vertical-align: middle;\n",
       "    }\n",
       "\n",
       "    .dataframe tbody tr th {\n",
       "        vertical-align: top;\n",
       "    }\n",
       "\n",
       "    .dataframe thead th {\n",
       "        text-align: right;\n",
       "    }\n",
       "</style>\n",
       "<table border=\"1\" class=\"dataframe\">\n",
       "  <thead>\n",
       "    <tr style=\"text-align: right;\">\n",
       "      <th></th>\n",
       "      <th>crim</th>\n",
       "      <th>zn</th>\n",
       "      <th>indus</th>\n",
       "      <th>chas</th>\n",
       "      <th>nox</th>\n",
       "      <th>rm</th>\n",
       "      <th>age</th>\n",
       "      <th>dis</th>\n",
       "      <th>rad</th>\n",
       "      <th>tax</th>\n",
       "      <th>ptratio</th>\n",
       "      <th>black</th>\n",
       "      <th>lstat</th>\n",
       "      <th>medv</th>\n",
       "    </tr>\n",
       "  </thead>\n",
       "  <tbody>\n",
       "    <tr>\n",
       "      <th>1</th>\n",
       "      <td>0.00632</td>\n",
       "      <td>18.0</td>\n",
       "      <td>2.31</td>\n",
       "      <td>0</td>\n",
       "      <td>0.538</td>\n",
       "      <td>6.575</td>\n",
       "      <td>65.2</td>\n",
       "      <td>4.0900</td>\n",
       "      <td>1</td>\n",
       "      <td>296</td>\n",
       "      <td>15.3</td>\n",
       "      <td>396.90</td>\n",
       "      <td>4.98</td>\n",
       "      <td>24.0</td>\n",
       "    </tr>\n",
       "    <tr>\n",
       "      <th>2</th>\n",
       "      <td>0.02731</td>\n",
       "      <td>0.0</td>\n",
       "      <td>7.07</td>\n",
       "      <td>0</td>\n",
       "      <td>0.469</td>\n",
       "      <td>6.421</td>\n",
       "      <td>78.9</td>\n",
       "      <td>4.9671</td>\n",
       "      <td>2</td>\n",
       "      <td>242</td>\n",
       "      <td>17.8</td>\n",
       "      <td>396.90</td>\n",
       "      <td>9.14</td>\n",
       "      <td>21.6</td>\n",
       "    </tr>\n",
       "    <tr>\n",
       "      <th>3</th>\n",
       "      <td>0.02729</td>\n",
       "      <td>0.0</td>\n",
       "      <td>7.07</td>\n",
       "      <td>0</td>\n",
       "      <td>0.469</td>\n",
       "      <td>7.185</td>\n",
       "      <td>61.1</td>\n",
       "      <td>4.9671</td>\n",
       "      <td>2</td>\n",
       "      <td>242</td>\n",
       "      <td>17.8</td>\n",
       "      <td>392.83</td>\n",
       "      <td>4.03</td>\n",
       "      <td>34.7</td>\n",
       "    </tr>\n",
       "    <tr>\n",
       "      <th>4</th>\n",
       "      <td>0.03237</td>\n",
       "      <td>0.0</td>\n",
       "      <td>2.18</td>\n",
       "      <td>0</td>\n",
       "      <td>0.458</td>\n",
       "      <td>6.998</td>\n",
       "      <td>45.8</td>\n",
       "      <td>6.0622</td>\n",
       "      <td>3</td>\n",
       "      <td>222</td>\n",
       "      <td>18.7</td>\n",
       "      <td>394.63</td>\n",
       "      <td>2.94</td>\n",
       "      <td>33.4</td>\n",
       "    </tr>\n",
       "    <tr>\n",
       "      <th>5</th>\n",
       "      <td>0.06905</td>\n",
       "      <td>0.0</td>\n",
       "      <td>2.18</td>\n",
       "      <td>0</td>\n",
       "      <td>0.458</td>\n",
       "      <td>7.147</td>\n",
       "      <td>54.2</td>\n",
       "      <td>6.0622</td>\n",
       "      <td>3</td>\n",
       "      <td>222</td>\n",
       "      <td>18.7</td>\n",
       "      <td>396.90</td>\n",
       "      <td>5.33</td>\n",
       "      <td>36.2</td>\n",
       "    </tr>\n",
       "  </tbody>\n",
       "</table>\n",
       "</div>"
      ],
      "text/plain": [
       "      crim    zn  indus  chas    nox     rm   age     dis  rad  tax  ptratio  \\\n",
       "1  0.00632  18.0   2.31     0  0.538  6.575  65.2  4.0900    1  296     15.3   \n",
       "2  0.02731   0.0   7.07     0  0.469  6.421  78.9  4.9671    2  242     17.8   \n",
       "3  0.02729   0.0   7.07     0  0.469  7.185  61.1  4.9671    2  242     17.8   \n",
       "4  0.03237   0.0   2.18     0  0.458  6.998  45.8  6.0622    3  222     18.7   \n",
       "5  0.06905   0.0   2.18     0  0.458  7.147  54.2  6.0622    3  222     18.7   \n",
       "\n",
       "    black  lstat  medv  \n",
       "1  396.90   4.98  24.0  \n",
       "2  396.90   9.14  21.6  \n",
       "3  392.83   4.03  34.7  \n",
       "4  394.63   2.94  33.4  \n",
       "5  396.90   5.33  36.2  "
      ]
     },
     "execution_count": 3,
     "metadata": {},
     "output_type": "execute_result"
    }
   ],
   "source": [
    "boston_df.head()"
   ]
  },
  {
   "cell_type": "code",
   "execution_count": 4,
   "id": "b0eb4b59-f404-4f1d-afbe-9725977070f6",
   "metadata": {},
   "outputs": [
    {
     "name": "stdout",
     "output_type": "stream",
     "text": [
      "<class 'pandas.core.frame.DataFrame'>\n",
      "Int64Index: 506 entries, 1 to 506\n",
      "Data columns (total 14 columns):\n",
      " #   Column   Non-Null Count  Dtype  \n",
      "---  ------   --------------  -----  \n",
      " 0   crim     506 non-null    float64\n",
      " 1   zn       506 non-null    float64\n",
      " 2   indus    506 non-null    float64\n",
      " 3   chas     506 non-null    int64  \n",
      " 4   nox      506 non-null    float64\n",
      " 5   rm       506 non-null    float64\n",
      " 6   age      506 non-null    float64\n",
      " 7   dis      506 non-null    float64\n",
      " 8   rad      506 non-null    int64  \n",
      " 9   tax      506 non-null    int64  \n",
      " 10  ptratio  506 non-null    float64\n",
      " 11  black    506 non-null    float64\n",
      " 12  lstat    506 non-null    float64\n",
      " 13  medv     506 non-null    float64\n",
      "dtypes: float64(11), int64(3)\n",
      "memory usage: 59.3 KB\n"
     ]
    }
   ],
   "source": [
    "boston_df.info()"
   ]
  },
  {
   "cell_type": "code",
   "execution_count": 5,
   "id": "4b431aa7-5afb-461b-9008-b51c299f8bf7",
   "metadata": {},
   "outputs": [
    {
     "data": {
      "text/html": [
       "<div>\n",
       "<style scoped>\n",
       "    .dataframe tbody tr th:only-of-type {\n",
       "        vertical-align: middle;\n",
       "    }\n",
       "\n",
       "    .dataframe tbody tr th {\n",
       "        vertical-align: top;\n",
       "    }\n",
       "\n",
       "    .dataframe thead th {\n",
       "        text-align: right;\n",
       "    }\n",
       "</style>\n",
       "<table border=\"1\" class=\"dataframe\">\n",
       "  <thead>\n",
       "    <tr style=\"text-align: right;\">\n",
       "      <th></th>\n",
       "      <th>crim</th>\n",
       "      <th>zn</th>\n",
       "      <th>indus</th>\n",
       "      <th>chas</th>\n",
       "      <th>nox</th>\n",
       "      <th>rm</th>\n",
       "      <th>age</th>\n",
       "      <th>dis</th>\n",
       "      <th>rad</th>\n",
       "      <th>tax</th>\n",
       "      <th>ptratio</th>\n",
       "      <th>black</th>\n",
       "      <th>lstat</th>\n",
       "      <th>medv</th>\n",
       "    </tr>\n",
       "  </thead>\n",
       "  <tbody>\n",
       "    <tr>\n",
       "      <th>count</th>\n",
       "      <td>506.00</td>\n",
       "      <td>506.00</td>\n",
       "      <td>506.00</td>\n",
       "      <td>506.00</td>\n",
       "      <td>506.00</td>\n",
       "      <td>506.00</td>\n",
       "      <td>506.00</td>\n",
       "      <td>506.00</td>\n",
       "      <td>506.00</td>\n",
       "      <td>506.00</td>\n",
       "      <td>506.00</td>\n",
       "      <td>506.00</td>\n",
       "      <td>506.00</td>\n",
       "      <td>506.00</td>\n",
       "    </tr>\n",
       "    <tr>\n",
       "      <th>mean</th>\n",
       "      <td>3.61</td>\n",
       "      <td>11.36</td>\n",
       "      <td>11.14</td>\n",
       "      <td>0.07</td>\n",
       "      <td>0.55</td>\n",
       "      <td>6.28</td>\n",
       "      <td>68.57</td>\n",
       "      <td>3.80</td>\n",
       "      <td>9.55</td>\n",
       "      <td>408.24</td>\n",
       "      <td>18.46</td>\n",
       "      <td>356.67</td>\n",
       "      <td>12.65</td>\n",
       "      <td>22.53</td>\n",
       "    </tr>\n",
       "    <tr>\n",
       "      <th>std</th>\n",
       "      <td>8.60</td>\n",
       "      <td>23.32</td>\n",
       "      <td>6.86</td>\n",
       "      <td>0.25</td>\n",
       "      <td>0.12</td>\n",
       "      <td>0.70</td>\n",
       "      <td>28.15</td>\n",
       "      <td>2.11</td>\n",
       "      <td>8.71</td>\n",
       "      <td>168.54</td>\n",
       "      <td>2.16</td>\n",
       "      <td>91.29</td>\n",
       "      <td>7.14</td>\n",
       "      <td>9.20</td>\n",
       "    </tr>\n",
       "    <tr>\n",
       "      <th>min</th>\n",
       "      <td>0.01</td>\n",
       "      <td>0.00</td>\n",
       "      <td>0.46</td>\n",
       "      <td>0.00</td>\n",
       "      <td>0.39</td>\n",
       "      <td>3.56</td>\n",
       "      <td>2.90</td>\n",
       "      <td>1.13</td>\n",
       "      <td>1.00</td>\n",
       "      <td>187.00</td>\n",
       "      <td>12.60</td>\n",
       "      <td>0.32</td>\n",
       "      <td>1.73</td>\n",
       "      <td>5.00</td>\n",
       "    </tr>\n",
       "    <tr>\n",
       "      <th>25%</th>\n",
       "      <td>0.08</td>\n",
       "      <td>0.00</td>\n",
       "      <td>5.19</td>\n",
       "      <td>0.00</td>\n",
       "      <td>0.45</td>\n",
       "      <td>5.89</td>\n",
       "      <td>45.02</td>\n",
       "      <td>2.10</td>\n",
       "      <td>4.00</td>\n",
       "      <td>279.00</td>\n",
       "      <td>17.40</td>\n",
       "      <td>375.38</td>\n",
       "      <td>6.95</td>\n",
       "      <td>17.02</td>\n",
       "    </tr>\n",
       "    <tr>\n",
       "      <th>50%</th>\n",
       "      <td>0.26</td>\n",
       "      <td>0.00</td>\n",
       "      <td>9.69</td>\n",
       "      <td>0.00</td>\n",
       "      <td>0.54</td>\n",
       "      <td>6.21</td>\n",
       "      <td>77.50</td>\n",
       "      <td>3.21</td>\n",
       "      <td>5.00</td>\n",
       "      <td>330.00</td>\n",
       "      <td>19.05</td>\n",
       "      <td>391.44</td>\n",
       "      <td>11.36</td>\n",
       "      <td>21.20</td>\n",
       "    </tr>\n",
       "    <tr>\n",
       "      <th>75%</th>\n",
       "      <td>3.68</td>\n",
       "      <td>12.50</td>\n",
       "      <td>18.10</td>\n",
       "      <td>0.00</td>\n",
       "      <td>0.62</td>\n",
       "      <td>6.62</td>\n",
       "      <td>94.07</td>\n",
       "      <td>5.19</td>\n",
       "      <td>24.00</td>\n",
       "      <td>666.00</td>\n",
       "      <td>20.20</td>\n",
       "      <td>396.23</td>\n",
       "      <td>16.96</td>\n",
       "      <td>25.00</td>\n",
       "    </tr>\n",
       "    <tr>\n",
       "      <th>max</th>\n",
       "      <td>88.98</td>\n",
       "      <td>100.00</td>\n",
       "      <td>27.74</td>\n",
       "      <td>1.00</td>\n",
       "      <td>0.87</td>\n",
       "      <td>8.78</td>\n",
       "      <td>100.00</td>\n",
       "      <td>12.13</td>\n",
       "      <td>24.00</td>\n",
       "      <td>711.00</td>\n",
       "      <td>22.00</td>\n",
       "      <td>396.90</td>\n",
       "      <td>37.97</td>\n",
       "      <td>50.00</td>\n",
       "    </tr>\n",
       "  </tbody>\n",
       "</table>\n",
       "</div>"
      ],
      "text/plain": [
       "         crim      zn   indus    chas     nox      rm     age     dis     rad  \\\n",
       "count  506.00  506.00  506.00  506.00  506.00  506.00  506.00  506.00  506.00   \n",
       "mean     3.61   11.36   11.14    0.07    0.55    6.28   68.57    3.80    9.55   \n",
       "std      8.60   23.32    6.86    0.25    0.12    0.70   28.15    2.11    8.71   \n",
       "min      0.01    0.00    0.46    0.00    0.39    3.56    2.90    1.13    1.00   \n",
       "25%      0.08    0.00    5.19    0.00    0.45    5.89   45.02    2.10    4.00   \n",
       "50%      0.26    0.00    9.69    0.00    0.54    6.21   77.50    3.21    5.00   \n",
       "75%      3.68   12.50   18.10    0.00    0.62    6.62   94.07    5.19   24.00   \n",
       "max     88.98  100.00   27.74    1.00    0.87    8.78  100.00   12.13   24.00   \n",
       "\n",
       "          tax ptratio   black   lstat    medv  \n",
       "count  506.00  506.00  506.00  506.00  506.00  \n",
       "mean   408.24   18.46  356.67   12.65   22.53  \n",
       "std    168.54    2.16   91.29    7.14    9.20  \n",
       "min    187.00   12.60    0.32    1.73    5.00  \n",
       "25%    279.00   17.40  375.38    6.95   17.02  \n",
       "50%    330.00   19.05  391.44   11.36   21.20  \n",
       "75%    666.00   20.20  396.23   16.96   25.00  \n",
       "max    711.00   22.00  396.90   37.97   50.00  "
      ]
     },
     "execution_count": 5,
     "metadata": {},
     "output_type": "execute_result"
    }
   ],
   "source": [
    "boston_df.describe().applymap('{:3.2f}'.format)"
   ]
  },
  {
   "cell_type": "code",
   "execution_count": 6,
   "id": "067dfe39-7ac1-4dc6-b839-a9e15e4bca54",
   "metadata": {},
   "outputs": [
    {
     "name": "stdout",
     "output_type": "stream",
     "text": [
      "['crim', 'zn', 'indus', 'chas', 'nox', 'rm', 'age', 'dis', 'rad', 'tax', 'ptratio', 'black', 'lstat']\n"
     ]
    }
   ],
   "source": [
    "predictors = ' + '.join(boston_df.drop('medv', axis=1).columns)\n",
    "print(predictors.split(' + '))"
   ]
  },
  {
   "cell_type": "code",
   "execution_count": 7,
   "id": "81f96a95-be74-4a05-8256-83f23f47ffd0",
   "metadata": {},
   "outputs": [],
   "source": [
    "y, X = dmatrices('medv ~ '+str(predictors), return_type='dataframe', data=boston_df)"
   ]
  },
  {
   "cell_type": "markdown",
   "id": "aa708925-f29d-4d9e-aada-05d302db5590",
   "metadata": {
    "tags": []
   },
   "source": [
    "## Is there a relationship between the median house price and the predictors?\n",
    "\n",
    "Let's try to answer this question concerning the _Boston_ data set by calculating the $F$-statistic of the linear regression."
   ]
  },
  {
   "cell_type": "code",
   "execution_count": 8,
   "id": "fa1eadcb-f3bd-4167-876c-084e56328fa7",
   "metadata": {},
   "outputs": [
    {
     "name": "stdout",
     "output_type": "stream",
     "text": [
      "                            OLS Regression Results                            \n",
      "==============================================================================\n",
      "Dep. Variable:                   medv   R-squared:                       0.741\n",
      "Model:                            OLS   Adj. R-squared:                  0.734\n",
      "Method:                 Least Squares   F-statistic:                     108.1\n",
      "Date:                Wed, 05 Jan 2022   Prob (F-statistic):          6.72e-135\n",
      "Time:                        18:22:16   Log-Likelihood:                -1498.8\n",
      "No. Observations:                 506   AIC:                             3026.\n",
      "Df Residuals:                     492   BIC:                             3085.\n",
      "Df Model:                          13                                         \n",
      "Covariance Type:            nonrobust                                         \n",
      "==============================================================================\n",
      "                 coef    std err          t      P>|t|      [0.025      0.975]\n",
      "------------------------------------------------------------------------------\n",
      "Intercept     36.4595      5.103      7.144      0.000      26.432      46.487\n",
      "crim          -0.1080      0.033     -3.287      0.001      -0.173      -0.043\n",
      "zn             0.0464      0.014      3.382      0.001       0.019       0.073\n",
      "indus          0.0206      0.061      0.334      0.738      -0.100       0.141\n",
      "chas           2.6867      0.862      3.118      0.002       0.994       4.380\n",
      "nox          -17.7666      3.820     -4.651      0.000     -25.272     -10.262\n",
      "rm             3.8099      0.418      9.116      0.000       2.989       4.631\n",
      "age            0.0007      0.013      0.052      0.958      -0.025       0.027\n",
      "dis           -1.4756      0.199     -7.398      0.000      -1.867      -1.084\n",
      "rad            0.3060      0.066      4.613      0.000       0.176       0.436\n",
      "tax           -0.0123      0.004     -3.280      0.001      -0.020      -0.005\n",
      "ptratio       -0.9527      0.131     -7.283      0.000      -1.210      -0.696\n",
      "black          0.0093      0.003      3.467      0.001       0.004       0.015\n",
      "lstat         -0.5248      0.051    -10.347      0.000      -0.624      -0.425\n",
      "==============================================================================\n",
      "Omnibus:                      178.041   Durbin-Watson:                   1.078\n",
      "Prob(Omnibus):                  0.000   Jarque-Bera (JB):              783.126\n",
      "Skew:                           1.521   Prob(JB):                    8.84e-171\n",
      "Kurtosis:                       8.281   Cond. No.                     1.51e+04\n",
      "==============================================================================\n",
      "\n",
      "Notes:\n",
      "[1] Standard Errors assume that the covariance matrix of the errors is correctly specified.\n",
      "[2] The condition number is large, 1.51e+04. This might indicate that there are\n",
      "strong multicollinearity or other numerical problems.\n"
     ]
    }
   ],
   "source": [
    "results = sm.OLS(y, X).fit()\n",
    "print(results.summary())"
   ]
  },
  {
   "cell_type": "markdown",
   "id": "198fd72f-abe0-4923-acb7-88deb4ea5be2",
   "metadata": {},
   "source": [
    "Due to the very low $p$-value of the $F$-statistic, we can conclude that there is a clear relationship between the median house prices and the predictors. However as note 2 suggests, multicollinearity or other numerical problems may be present in the data.\n",
    "\n",
    "## How strong is the relationship?\n",
    "\n",
    "The $R^2$ is 0.741, indicating that the model can explain over 74% of the variance in the data. Let's calculate the _residual standard error_ on the median house price."
   ]
  },
  {
   "cell_type": "code",
   "execution_count": 9,
   "id": "8673b14c-b300-4e9b-9f50-b246b4e1ca58",
   "metadata": {},
   "outputs": [
    {
     "name": "stdout",
     "output_type": "stream",
     "text": [
      "Residual standard error: 4.745\n"
     ]
    }
   ],
   "source": [
    "print(f'Residual standard error: {round(np.sqrt(results.mse_resid), 3)}')"
   ]
  },
  {
   "cell_type": "markdown",
   "id": "20366539-5dff-4076-8b2b-ba7eb39aefa3",
   "metadata": {},
   "source": [
    "The residual standard error can be alternatively derived from the calculation below."
   ]
  },
  {
   "cell_type": "code",
   "execution_count": 10,
   "id": "16f81885-1dab-4a93-90c6-ebdd8c300b26",
   "metadata": {},
   "outputs": [
    {
     "name": "stdout",
     "output_type": "stream",
     "text": [
      "Residual standard error: 4.745\n"
     ]
    }
   ],
   "source": [
    "print(f'Residual standard error: {round(np.sqrt(((y.values.ravel()-results.fittedvalues)**2).sum()/(y.shape[0]-14)), 3)}')"
   ]
  },
  {
   "cell_type": "code",
   "execution_count": 11,
   "id": "c05662f0-e8a6-4fe3-8c38-bd1c85302974",
   "metadata": {},
   "outputs": [
    {
     "name": "stdout",
     "output_type": "stream",
     "text": [
      "Average median house price: 22.533\n"
     ]
    }
   ],
   "source": [
    "print(f'Average median house price: {round(np.mean(y.values), 3)}')"
   ]
  },
  {
   "cell_type": "code",
   "execution_count": 12,
   "id": "b87c93a2-5ba2-4387-9458-575fbfe176c7",
   "metadata": {},
   "outputs": [
    {
     "name": "stdout",
     "output_type": "stream",
     "text": [
      "Percentage error of the mean: 21.06%\n"
     ]
    }
   ],
   "source": [
    "print(f'Percentage error of the mean: {round(100*(np.sqrt(results.mse_resid)/np.mean(y.values)), 2)}%')"
   ]
  },
  {
   "cell_type": "markdown",
   "id": "0e1e7a99-bdf9-44e0-9431-b4a4aef12be3",
   "metadata": {},
   "source": [
    "Due to the relatively high percentage error on the mean of just over 21%, the prediction accuracy of the mean suffers from a wide error range which limits its prediction power."
   ]
  },
  {
   "cell_type": "markdown",
   "id": "eac992a0-0192-4485-a525-ad5930603364",
   "metadata": {},
   "source": [
    "## Which predictors are associated with the outcome?\n",
    "\n",
    "When observing the regression results table, all predictors except `indus` and `age` have a $p$-value below 0.01, which makes them highly significant and consequently associated with the response. You can see that the confidence interval for `indus` and `age` are consistent with zero, which is further proof that there is no association of these predictors with the median house price."
   ]
  },
  {
   "cell_type": "markdown",
   "id": "6625c393-a2fc-43fa-923e-c69b14791d62",
   "metadata": {},
   "source": [
    "## How large is the association between the predictors and the outcome?\n",
    "\n",
    "Confidence intervals allow us to estimate the accuracy of the association of the predictors with the outcome. Wide confidence intervals may be due to _collinearity_. Let's calculate the _variance inflation factor (VIF)_ which shows collinearity between predictors. We can do this by using the `statsmodels.stats.outliers_influence.variance_inflation_factor` method in statsmodels."
   ]
  },
  {
   "cell_type": "code",
   "execution_count": 13,
   "id": "c730ab6f-f5eb-451a-9b60-1b46d32ccd45",
   "metadata": {},
   "outputs": [
    {
     "name": "stdout",
     "output_type": "stream",
     "text": [
      "Intercept  585.265\n",
      "crim       1.792\n",
      "zn         2.299\n",
      "indus      3.992\n",
      "chas       1.074\n",
      "nox        4.394\n",
      "rm         1.934\n",
      "age        3.101\n",
      "dis        3.956\n",
      "rad        7.484\n",
      "tax        9.009\n",
      "ptratio    1.799\n",
      "black      1.349\n",
      "lstat      2.941\n"
     ]
    }
   ],
   "source": [
    "from statsmodels.stats.outliers_influence import variance_inflation_factor\n",
    "for index, colname in enumerate(X.columns):\n",
    "    print(f'{colname:<10} {round(variance_inflation_factor(X, index), 3)}')"
   ]
  },
  {
   "cell_type": "markdown",
   "id": "7b83c714-9cfb-47e7-8e31-d83b31e6eae4",
   "metadata": {},
   "source": [
    "From the results, the fact that the predictors `indus` and `age` have low significance isn't due to _collinearity_. `Intercept` has a high value of collinearity, but it was added to the matrix `X` by design so it shouldn't affect the VIF results of the other predictors.\n",
    "\n",
    "Collinearity may be present due to the `rad` and `tax` predictors, following the rule of thumb that values above 5 may indicate the presence of collinearity in the predictors. Let's calculate a regression model between the two variables. Let's calculate the linear regression between the two predictors."
   ]
  },
  {
   "cell_type": "code",
   "execution_count": 14,
   "id": "cbceb7d2-090b-4f92-83da-366acbe0f2b3",
   "metadata": {},
   "outputs": [
    {
     "name": "stdout",
     "output_type": "stream",
     "text": [
      "                            OLS Regression Results                            \n",
      "==============================================================================\n",
      "Dep. Variable:                    tax   R-squared:                       0.829\n",
      "Model:                            OLS   Adj. R-squared:                  0.828\n",
      "Method:                 Least Squares   F-statistic:                     2435.\n",
      "Date:                Wed, 05 Jan 2022   Prob (F-statistic):          4.13e-195\n",
      "Time:                        18:22:16   Log-Likelihood:                -2865.7\n",
      "No. Observations:                 506   AIC:                             5735.\n",
      "Df Residuals:                     504   BIC:                             5744.\n",
      "Df Model:                           1                                         \n",
      "Covariance Type:            nonrobust                                         \n",
      "==============================================================================\n",
      "                 coef    std err          t      P>|t|      [0.025      0.975]\n",
      "------------------------------------------------------------------------------\n",
      "Intercept    239.9927      4.612     52.037      0.000     230.932     249.054\n",
      "rad           17.6183      0.357     49.346      0.000      16.917      18.320\n",
      "==============================================================================\n",
      "Omnibus:                      242.950   Durbin-Watson:                   0.393\n",
      "Prob(Omnibus):                  0.000   Jarque-Bera (JB):             2045.440\n",
      "Skew:                           1.907   Prob(JB):                         0.00\n",
      "Kurtosis:                      12.082   Cond. No.                         19.2\n",
      "==============================================================================\n",
      "\n",
      "Notes:\n",
      "[1] Standard Errors assume that the covariance matrix of the errors is correctly specified.\n"
     ]
    }
   ],
   "source": [
    "y_t, X_t = dmatrices('tax ~ rad', return_type='dataframe', data=boston_df)\n",
    "results_t = sm.OLS(y_t, X_t).fit()\n",
    "print(results_t.summary())"
   ]
  },
  {
   "cell_type": "code",
   "execution_count": 15,
   "id": "86942bcb-a6e1-4a70-a5a6-40dc7dd9da86",
   "metadata": {},
   "outputs": [
    {
     "data": {
      "image/png": "[encoded data removed]",
      "text/plain": [
       "<Figure size 576x432 with 1 Axes>"
      ]
     },
     "metadata": {
      "needs_background": "light"
     },
     "output_type": "display_data"
    }
   ],
   "source": [
    "fig, axes = plt.subplots(figsize=(8, 6))\n",
    "sb.regplot(x='rad', y='tax', data=X, ci=95, color='green', scatter_kws={'alpha': 0.2}, ax=axes)\n",
    "axes.set_xlabel('rad', fontsize=14)\n",
    "axes.set_ylabel('tax', fontsize=14)\n",
    "axes.set_title('rad vs tax', fontsize=16)\n",
    "plt.grid(True);"
   ]
  },
  {
   "cell_type": "markdown",
   "id": "506e0915-869c-4cc4-a164-56c0f150a2f0",
   "metadata": {},
   "source": [
    "The high $R^2$ indicates that the regression model explains almost 83% of the variance in the data. However as one can see from the plot, this is due to the presence of several outliers and high leverage data points. If we removed these points and only considered the majority of the data in the bottom left corner, then no correlation is present."
   ]
  },
  {
   "cell_type": "code",
   "execution_count": 16,
   "id": "60fab114-692d-4656-9295-c0442db37a09",
   "metadata": {},
   "outputs": [],
   "source": [
    "boston_rt_df = boston_df.loc[(boston_df['tax'] < 500) & (boston_df['rad'] < 10)]"
   ]
  },
  {
   "cell_type": "code",
   "execution_count": 17,
   "id": "750ddad4-a208-4a6e-a619-1854cd1aa7b3",
   "metadata": {},
   "outputs": [
    {
     "name": "stdout",
     "output_type": "stream",
     "text": [
      "                            OLS Regression Results                            \n",
      "==============================================================================\n",
      "Dep. Variable:                    tax   R-squared:                       0.062\n",
      "Model:                            OLS   Adj. R-squared:                  0.060\n",
      "Method:                 Least Squares   F-statistic:                     24.42\n",
      "Date:                Wed, 05 Jan 2022   Prob (F-statistic):           1.18e-06\n",
      "Time:                        18:22:16   Log-Likelihood:                -2067.3\n",
      "No. Observations:                 369   AIC:                             4139.\n",
      "Df Residuals:                     367   BIC:                             4146.\n",
      "Df Model:                           1                                         \n",
      "Covariance Type:            nonrobust                                         \n",
      "==============================================================================\n",
      "                 coef    std err          t      P>|t|      [0.025      0.975]\n",
      "------------------------------------------------------------------------------\n",
      "Intercept    265.9920      9.907     26.850      0.000     246.511     285.473\n",
      "rad           10.3102      2.087      4.941      0.000       6.207      14.413\n",
      "==============================================================================\n",
      "Omnibus:                       33.651   Durbin-Watson:                   0.405\n",
      "Prob(Omnibus):                  0.000   Jarque-Bera (JB):               18.335\n",
      "Skew:                           0.385   Prob(JB):                     0.000104\n",
      "Kurtosis:                       2.225   Cond. No.                         14.3\n",
      "==============================================================================\n",
      "\n",
      "Notes:\n",
      "[1] Standard Errors assume that the covariance matrix of the errors is correctly specified.\n"
     ]
    }
   ],
   "source": [
    "y_t, X_t = dmatrices('tax ~ rad', return_type='dataframe', data=boston_rt_df)\n",
    "results_t = sm.OLS(y_t, X_t).fit()\n",
    "print(results_t.summary())"
   ]
  },
  {
   "cell_type": "markdown",
   "id": "4ab01a28-4593-42b6-82db-0765b7118ffa",
   "metadata": {},
   "source": [
    "Without those data points, the $R^2$ is reduced to 0.062 indicating no ability of the linear regression to model the data. If we remove those outliers in `rad` and `tax` from the data, we get a different picture."
   ]
  },
  {
   "cell_type": "code",
   "execution_count": 18,
   "id": "153aa699-f937-487d-9dde-b8956d4a6931",
   "metadata": {},
   "outputs": [],
   "source": [
    "y, X = dmatrices('medv ~ '+str(predictors), return_type='dataframe', data=boston_rt_df)"
   ]
  },
  {
   "cell_type": "code",
   "execution_count": 19,
   "id": "7cc45fda-df28-41fe-ac79-23dc23f2e346",
   "metadata": {},
   "outputs": [
    {
     "name": "stdout",
     "output_type": "stream",
     "text": [
      "                            OLS Regression Results                            \n",
      "==============================================================================\n",
      "Dep. Variable:                   medv   R-squared:                       0.865\n",
      "Model:                            OLS   Adj. R-squared:                  0.860\n",
      "Method:                 Least Squares   F-statistic:                     175.5\n",
      "Date:                Wed, 05 Jan 2022   Prob (F-statistic):          1.08e-145\n",
      "Time:                        18:22:17   Log-Likelihood:                -935.97\n",
      "No. Observations:                 369   AIC:                             1900.\n",
      "Df Residuals:                     355   BIC:                             1955.\n",
      "Df Model:                          13                                         \n",
      "Covariance Type:            nonrobust                                         \n",
      "==============================================================================\n",
      "                 coef    std err          t      P>|t|      [0.025      0.975]\n",
      "------------------------------------------------------------------------------\n",
      "Intercept    -14.5058      4.723     -3.071      0.002     -23.795      -5.217\n",
      "crim           1.2641      0.442      2.860      0.004       0.395       2.133\n",
      "zn             0.0181      0.009      1.913      0.057      -0.001       0.037\n",
      "indus          0.0236      0.043      0.552      0.581      -0.060       0.108\n",
      "chas           0.8243      0.647      1.274      0.204      -0.448       2.097\n",
      "nox           -8.3156      3.524     -2.359      0.019     -15.247      -1.384\n",
      "rm             9.1633      0.385     23.825      0.000       8.407       9.920\n",
      "age           -0.0522      0.010     -5.493      0.000      -0.071      -0.034\n",
      "dis           -0.9229      0.141     -6.530      0.000      -1.201      -0.645\n",
      "rad            0.2472      0.108      2.279      0.023       0.034       0.460\n",
      "tax           -0.0134      0.003     -4.637      0.000      -0.019      -0.008\n",
      "ptratio       -0.6228      0.092     -6.750      0.000      -0.804      -0.441\n",
      "black          0.0162      0.005      3.348      0.001       0.007       0.026\n",
      "lstat         -0.0662      0.048     -1.388      0.166      -0.160       0.028\n",
      "==============================================================================\n",
      "Omnibus:                       31.287   Durbin-Watson:                   1.206\n",
      "Prob(Omnibus):                  0.000   Jarque-Bera (JB):               42.631\n",
      "Skew:                           0.622   Prob(JB):                     5.53e-10\n",
      "Kurtosis:                       4.107   Cond. No.                     1.61e+04\n",
      "==============================================================================\n",
      "\n",
      "Notes:\n",
      "[1] Standard Errors assume that the covariance matrix of the errors is correctly specified.\n",
      "[2] The condition number is large, 1.61e+04. This might indicate that there are\n",
      "strong multicollinearity or other numerical problems.\n"
     ]
    }
   ],
   "source": [
    "results = sm.OLS(y, X).fit()\n",
    "print(results.summary())"
   ]
  },
  {
   "cell_type": "markdown",
   "id": "31c9d8f9-e59e-4ad5-90bf-e963a55d1dcc",
   "metadata": {},
   "source": [
    "With the modified data set, `indus` remains non-significant, `age` becomes significant but `lstat` and `chas` become non-significant. However, as expected, we don't have collinearity in the predictors anymore, as shown below."
   ]
  },
  {
   "cell_type": "code",
   "execution_count": 20,
   "id": "9b2a2781-6608-4f26-b019-89d0cae5e78a",
   "metadata": {},
   "outputs": [
    {
     "name": "stdout",
     "output_type": "stream",
     "text": [
      "Intercept  847.202\n",
      "crim       2.924\n",
      "zn         2.311\n",
      "indus      2.487\n",
      "chas       1.079\n",
      "nox        4.822\n",
      "rm         2.521\n",
      "age        2.724\n",
      "dis        3.33\n",
      "rad        1.203\n",
      "tax        1.465\n",
      "ptratio    1.575\n",
      "black      1.396\n",
      "lstat      2.935\n"
     ]
    }
   ],
   "source": [
    "from statsmodels.stats.outliers_influence import variance_inflation_factor\n",
    "for index, colname in enumerate(X.columns):\n",
    "    print(f'{colname:<10} {round(variance_inflation_factor(X, index), 3)}')"
   ]
  },
  {
   "cell_type": "markdown",
   "id": "9cc338de-e835-40b6-9528-6222385946d2",
   "metadata": {},
   "source": [
    "## Is the relationship linear?\n",
    "\n",
    "Let's calculate the residuals plot to observe any pattern in the data."
   ]
  },
  {
   "cell_type": "code",
   "execution_count": 21,
   "id": "d980e6b9-d823-403f-9b72-00412b5c27c3",
   "metadata": {},
   "outputs": [],
   "source": [
    "resid = y.values.ravel()-results.fittedvalues"
   ]
  },
  {
   "cell_type": "code",
   "execution_count": 22,
   "id": "4af9f6b9-4b1b-4a46-96dc-d73debea3b98",
   "metadata": {},
   "outputs": [
    {
     "data": {
      "image/png": "[encoded data removed]",
      "text/plain": [
       "<Figure size 1152x504 with 1 Axes>"
      ]
     },
     "metadata": {
      "needs_background": "light"
     },
     "output_type": "display_data"
    }
   ],
   "source": [
    "fig, axes = plt.subplots(1, 1, figsize=(16, 7))\n",
    "sb.regplot(x=results.fittedvalues, y=resid, ci=None, lowess=True, \\\n",
    "           scatter_kws={'facecolors':'dodgerblue', 'edgecolors':'k', 's':40, 'alpha':0.5}, \\\n",
    "           line_kws={'lw': 2, 'color':'darkorange'}, ax=axes)\n",
    "axes.hlines(0, axes.xaxis.get_data_interval()[0], axes.xaxis.get_data_interval()[1], linestyles=':', color='k')\n",
    "axes.set_xlabel('Fitted values')\n",
    "axes.set_ylabel('Residuals')\n",
    "axes.set_title('Residual Plot for Linear Fit');"
   ]
  },
  {
   "cell_type": "markdown",
   "id": "1979745f-bb33-43a0-a96b-aed0be6dc977",
   "metadata": {},
   "source": [
    "The linear model seems to be a good fit for the data."
   ]
  },
  {
   "cell_type": "code",
   "execution_count": null,
   "id": "1e483fd5-d2b8-48a7-91d2-c3bd7473a121",
   "metadata": {},
   "outputs": [],
   "source": []
  }
 ],
 "metadata": {
  "kernelspec": {
   "display_name": "Python 3 (ipykernel)",
   "language": "python",
   "name": "python3"
  },
  "language_info": {
   "codemirror_mode": {
    "name": "ipython",
    "version": 3
   },
   "file_extension": ".py",
   "mimetype": "text/x-python",
   "name": "python",
   "nbconvert_exporter": "python",
   "pygments_lexer": "ipython3",
   "version": "3.8.12"
  }
 },
 "nbformat": 4,
 "nbformat_minor": 5
}
