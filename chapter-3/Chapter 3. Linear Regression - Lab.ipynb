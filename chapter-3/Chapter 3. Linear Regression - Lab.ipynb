{
 "cells": [
  {
   "cell_type": "markdown",
   "id": "57ccec82-db9d-4c42-b6b8-30e5a2878afd",
   "metadata": {},
   "source": [
    "# Chapter 3. Linear Regression - Lab\n",
    "\n",
    "- [3.6 Lab: Linear regression](#Lab:-Linear-regression)"
   ]
  },
  {
   "cell_type": "markdown",
   "id": "c1af8802-7d3d-4bd4-a58e-568e8a75ddb1",
   "metadata": {},
   "source": [
    "## Lab: Linear Regression"
   ]
  },
  {
   "cell_type": "code",
   "execution_count": 1,
   "id": "bc09841d-e167-4154-a2b3-4dcb1161448f",
   "metadata": {},
   "outputs": [],
   "source": [
    "import pandas as pd\n",
    "import numpy as np\n",
    "import statsmodels.api as sm\n",
    "from patsy import dmatrices"
   ]
  },
  {
   "cell_type": "code",
   "execution_count": 2,
   "id": "cf23ccd6-6947-4dae-8ac5-ce6130c90450",
   "metadata": {},
   "outputs": [],
   "source": [
    "boston_df = pd.read_csv('../data/boston.csv', index_col=0)"
   ]
  },
  {
   "cell_type": "code",
   "execution_count": 3,
   "id": "b0eb4b59-f404-4f1d-afbe-9725977070f6",
   "metadata": {},
   "outputs": [
    {
     "name": "stdout",
     "output_type": "stream",
     "text": [
      "<class 'pandas.core.frame.DataFrame'>\n",
      "Int64Index: 506 entries, 1 to 506\n",
      "Data columns (total 14 columns):\n",
      " #   Column   Non-Null Count  Dtype  \n",
      "---  ------   --------------  -----  \n",
      " 0   crim     506 non-null    float64\n",
      " 1   zn       506 non-null    float64\n",
      " 2   indus    506 non-null    float64\n",
      " 3   chas     506 non-null    int64  \n",
      " 4   nox      506 non-null    float64\n",
      " 5   rm       506 non-null    float64\n",
      " 6   age      506 non-null    float64\n",
      " 7   dis      506 non-null    float64\n",
      " 8   rad      506 non-null    int64  \n",
      " 9   tax      506 non-null    int64  \n",
      " 10  ptratio  506 non-null    float64\n",
      " 11  black    506 non-null    float64\n",
      " 12  lstat    506 non-null    float64\n",
      " 13  medv     506 non-null    float64\n",
      "dtypes: float64(11), int64(3)\n",
      "memory usage: 59.3 KB\n"
     ]
    }
   ],
   "source": [
    "boston_df.info()"
   ]
  },
  {
   "cell_type": "code",
   "execution_count": 4,
   "id": "4b431aa7-5afb-461b-9008-b51c299f8bf7",
   "metadata": {},
   "outputs": [
    {
     "data": {
      "text/html": [
       "<div>\n",
       "<style scoped>\n",
       "    .dataframe tbody tr th:only-of-type {\n",
       "        vertical-align: middle;\n",
       "    }\n",
       "\n",
       "    .dataframe tbody tr th {\n",
       "        vertical-align: top;\n",
       "    }\n",
       "\n",
       "    .dataframe thead th {\n",
       "        text-align: right;\n",
       "    }\n",
       "</style>\n",
       "<table border=\"1\" class=\"dataframe\">\n",
       "  <thead>\n",
       "    <tr style=\"text-align: right;\">\n",
       "      <th></th>\n",
       "      <th>crim</th>\n",
       "      <th>zn</th>\n",
       "      <th>indus</th>\n",
       "      <th>chas</th>\n",
       "      <th>nox</th>\n",
       "      <th>rm</th>\n",
       "      <th>age</th>\n",
       "      <th>dis</th>\n",
       "      <th>rad</th>\n",
       "      <th>tax</th>\n",
       "      <th>ptratio</th>\n",
       "      <th>black</th>\n",
       "      <th>lstat</th>\n",
       "      <th>medv</th>\n",
       "    </tr>\n",
       "  </thead>\n",
       "  <tbody>\n",
       "    <tr>\n",
       "      <th>count</th>\n",
       "      <td>506.00</td>\n",
       "      <td>506.00</td>\n",
       "      <td>506.00</td>\n",
       "      <td>506.00</td>\n",
       "      <td>506.00</td>\n",
       "      <td>506.00</td>\n",
       "      <td>506.00</td>\n",
       "      <td>506.00</td>\n",
       "      <td>506.00</td>\n",
       "      <td>506.00</td>\n",
       "      <td>506.00</td>\n",
       "      <td>506.00</td>\n",
       "      <td>506.00</td>\n",
       "      <td>506.00</td>\n",
       "    </tr>\n",
       "    <tr>\n",
       "      <th>mean</th>\n",
       "      <td>3.61</td>\n",
       "      <td>11.36</td>\n",
       "      <td>11.14</td>\n",
       "      <td>0.07</td>\n",
       "      <td>0.55</td>\n",
       "      <td>6.28</td>\n",
       "      <td>68.57</td>\n",
       "      <td>3.80</td>\n",
       "      <td>9.55</td>\n",
       "      <td>408.24</td>\n",
       "      <td>18.46</td>\n",
       "      <td>356.67</td>\n",
       "      <td>12.65</td>\n",
       "      <td>22.53</td>\n",
       "    </tr>\n",
       "    <tr>\n",
       "      <th>std</th>\n",
       "      <td>8.60</td>\n",
       "      <td>23.32</td>\n",
       "      <td>6.86</td>\n",
       "      <td>0.25</td>\n",
       "      <td>0.12</td>\n",
       "      <td>0.70</td>\n",
       "      <td>28.15</td>\n",
       "      <td>2.11</td>\n",
       "      <td>8.71</td>\n",
       "      <td>168.54</td>\n",
       "      <td>2.16</td>\n",
       "      <td>91.29</td>\n",
       "      <td>7.14</td>\n",
       "      <td>9.20</td>\n",
       "    </tr>\n",
       "    <tr>\n",
       "      <th>min</th>\n",
       "      <td>0.01</td>\n",
       "      <td>0.00</td>\n",
       "      <td>0.46</td>\n",
       "      <td>0.00</td>\n",
       "      <td>0.39</td>\n",
       "      <td>3.56</td>\n",
       "      <td>2.90</td>\n",
       "      <td>1.13</td>\n",
       "      <td>1.00</td>\n",
       "      <td>187.00</td>\n",
       "      <td>12.60</td>\n",
       "      <td>0.32</td>\n",
       "      <td>1.73</td>\n",
       "      <td>5.00</td>\n",
       "    </tr>\n",
       "    <tr>\n",
       "      <th>25%</th>\n",
       "      <td>0.08</td>\n",
       "      <td>0.00</td>\n",
       "      <td>5.19</td>\n",
       "      <td>0.00</td>\n",
       "      <td>0.45</td>\n",
       "      <td>5.89</td>\n",
       "      <td>45.02</td>\n",
       "      <td>2.10</td>\n",
       "      <td>4.00</td>\n",
       "      <td>279.00</td>\n",
       "      <td>17.40</td>\n",
       "      <td>375.38</td>\n",
       "      <td>6.95</td>\n",
       "      <td>17.02</td>\n",
       "    </tr>\n",
       "    <tr>\n",
       "      <th>50%</th>\n",
       "      <td>0.26</td>\n",
       "      <td>0.00</td>\n",
       "      <td>9.69</td>\n",
       "      <td>0.00</td>\n",
       "      <td>0.54</td>\n",
       "      <td>6.21</td>\n",
       "      <td>77.50</td>\n",
       "      <td>3.21</td>\n",
       "      <td>5.00</td>\n",
       "      <td>330.00</td>\n",
       "      <td>19.05</td>\n",
       "      <td>391.44</td>\n",
       "      <td>11.36</td>\n",
       "      <td>21.20</td>\n",
       "    </tr>\n",
       "    <tr>\n",
       "      <th>75%</th>\n",
       "      <td>3.68</td>\n",
       "      <td>12.50</td>\n",
       "      <td>18.10</td>\n",
       "      <td>0.00</td>\n",
       "      <td>0.62</td>\n",
       "      <td>6.62</td>\n",
       "      <td>94.07</td>\n",
       "      <td>5.19</td>\n",
       "      <td>24.00</td>\n",
       "      <td>666.00</td>\n",
       "      <td>20.20</td>\n",
       "      <td>396.23</td>\n",
       "      <td>16.96</td>\n",
       "      <td>25.00</td>\n",
       "    </tr>\n",
       "    <tr>\n",
       "      <th>max</th>\n",
       "      <td>88.98</td>\n",
       "      <td>100.00</td>\n",
       "      <td>27.74</td>\n",
       "      <td>1.00</td>\n",
       "      <td>0.87</td>\n",
       "      <td>8.78</td>\n",
       "      <td>100.00</td>\n",
       "      <td>12.13</td>\n",
       "      <td>24.00</td>\n",
       "      <td>711.00</td>\n",
       "      <td>22.00</td>\n",
       "      <td>396.90</td>\n",
       "      <td>37.97</td>\n",
       "      <td>50.00</td>\n",
       "    </tr>\n",
       "  </tbody>\n",
       "</table>\n",
       "</div>"
      ],
      "text/plain": [
       "         crim      zn   indus    chas     nox      rm     age     dis     rad  \\\n",
       "count  506.00  506.00  506.00  506.00  506.00  506.00  506.00  506.00  506.00   \n",
       "mean     3.61   11.36   11.14    0.07    0.55    6.28   68.57    3.80    9.55   \n",
       "std      8.60   23.32    6.86    0.25    0.12    0.70   28.15    2.11    8.71   \n",
       "min      0.01    0.00    0.46    0.00    0.39    3.56    2.90    1.13    1.00   \n",
       "25%      0.08    0.00    5.19    0.00    0.45    5.89   45.02    2.10    4.00   \n",
       "50%      0.26    0.00    9.69    0.00    0.54    6.21   77.50    3.21    5.00   \n",
       "75%      3.68   12.50   18.10    0.00    0.62    6.62   94.07    5.19   24.00   \n",
       "max     88.98  100.00   27.74    1.00    0.87    8.78  100.00   12.13   24.00   \n",
       "\n",
       "          tax ptratio   black   lstat    medv  \n",
       "count  506.00  506.00  506.00  506.00  506.00  \n",
       "mean   408.24   18.46  356.67   12.65   22.53  \n",
       "std    168.54    2.16   91.29    7.14    9.20  \n",
       "min    187.00   12.60    0.32    1.73    5.00  \n",
       "25%    279.00   17.40  375.38    6.95   17.02  \n",
       "50%    330.00   19.05  391.44   11.36   21.20  \n",
       "75%    666.00   20.20  396.23   16.96   25.00  \n",
       "max    711.00   22.00  396.90   37.97   50.00  "
      ]
     },
     "execution_count": 4,
     "metadata": {},
     "output_type": "execute_result"
    }
   ],
   "source": [
    "boston_df.describe().applymap('{:3.2f}'.format)"
   ]
  },
  {
   "cell_type": "code",
   "execution_count": 5,
   "id": "067dfe39-7ac1-4dc6-b839-a9e15e4bca54",
   "metadata": {},
   "outputs": [],
   "source": [
    "# boston_df = pd.get_dummies(boston_df, columns=['chas'])"
   ]
  },
  {
   "cell_type": "code",
   "execution_count": 6,
   "id": "7a81e134-08d6-4d11-9aff-feeadd39238d",
   "metadata": {},
   "outputs": [
    {
     "name": "stdout",
     "output_type": "stream",
     "text": [
      "<class 'pandas.core.frame.DataFrame'>\n",
      "Int64Index: 506 entries, 1 to 506\n",
      "Data columns (total 14 columns):\n",
      " #   Column   Non-Null Count  Dtype  \n",
      "---  ------   --------------  -----  \n",
      " 0   crim     506 non-null    float64\n",
      " 1   zn       506 non-null    float64\n",
      " 2   indus    506 non-null    float64\n",
      " 3   chas     506 non-null    int64  \n",
      " 4   nox      506 non-null    float64\n",
      " 5   rm       506 non-null    float64\n",
      " 6   age      506 non-null    float64\n",
      " 7   dis      506 non-null    float64\n",
      " 8   rad      506 non-null    int64  \n",
      " 9   tax      506 non-null    int64  \n",
      " 10  ptratio  506 non-null    float64\n",
      " 11  black    506 non-null    float64\n",
      " 12  lstat    506 non-null    float64\n",
      " 13  medv     506 non-null    float64\n",
      "dtypes: float64(11), int64(3)\n",
      "memory usage: 59.3 KB\n"
     ]
    }
   ],
   "source": [
    "boston_df.info()"
   ]
  },
  {
   "cell_type": "code",
   "execution_count": 7,
   "id": "81f96a95-be74-4a05-8256-83f23f47ffd0",
   "metadata": {},
   "outputs": [],
   "source": [
    "predictors = ' + '.join(boston_df.drop('medv', axis=1).columns)\n",
    "y, X = dmatrices('medv ~ '+str(predictors), return_type='dataframe', data=boston_df)"
   ]
  },
  {
   "cell_type": "markdown",
   "id": "aa708925-f29d-4d9e-aada-05d302db5590",
   "metadata": {
    "tags": []
   },
   "source": [
    "## Data science questions and answers\n",
    "\n",
    "Let's try to answer some questions concerning the _Boston_ data set.\n",
    "\n",
    "1. Is there a relationship between the median house price and the predictors?"
   ]
  },
  {
   "cell_type": "code",
   "execution_count": 8,
   "id": "fa1eadcb-f3bd-4167-876c-084e56328fa7",
   "metadata": {},
   "outputs": [
    {
     "name": "stdout",
     "output_type": "stream",
     "text": [
      "                            OLS Regression Results                            \n",
      "==============================================================================\n",
      "Dep. Variable:                   medv   R-squared:                       0.741\n",
      "Model:                            OLS   Adj. R-squared:                  0.734\n",
      "Method:                 Least Squares   F-statistic:                     108.1\n",
      "Date:                Wed, 29 Dec 2021   Prob (F-statistic):          6.72e-135\n",
      "Time:                        19:39:15   Log-Likelihood:                -1498.8\n",
      "No. Observations:                 506   AIC:                             3026.\n",
      "Df Residuals:                     492   BIC:                             3085.\n",
      "Df Model:                          13                                         \n",
      "Covariance Type:            nonrobust                                         \n",
      "==============================================================================\n",
      "                 coef    std err          t      P>|t|      [0.025      0.975]\n",
      "------------------------------------------------------------------------------\n",
      "Intercept     36.4595      5.103      7.144      0.000      26.432      46.487\n",
      "crim          -0.1080      0.033     -3.287      0.001      -0.173      -0.043\n",
      "zn             0.0464      0.014      3.382      0.001       0.019       0.073\n",
      "indus          0.0206      0.061      0.334      0.738      -0.100       0.141\n",
      "chas           2.6867      0.862      3.118      0.002       0.994       4.380\n",
      "nox          -17.7666      3.820     -4.651      0.000     -25.272     -10.262\n",
      "rm             3.8099      0.418      9.116      0.000       2.989       4.631\n",
      "age            0.0007      0.013      0.052      0.958      -0.025       0.027\n",
      "dis           -1.4756      0.199     -7.398      0.000      -1.867      -1.084\n",
      "rad            0.3060      0.066      4.613      0.000       0.176       0.436\n",
      "tax           -0.0123      0.004     -3.280      0.001      -0.020      -0.005\n",
      "ptratio       -0.9527      0.131     -7.283      0.000      -1.210      -0.696\n",
      "black          0.0093      0.003      3.467      0.001       0.004       0.015\n",
      "lstat         -0.5248      0.051    -10.347      0.000      -0.624      -0.425\n",
      "==============================================================================\n",
      "Omnibus:                      178.041   Durbin-Watson:                   1.078\n",
      "Prob(Omnibus):                  0.000   Jarque-Bera (JB):              783.126\n",
      "Skew:                           1.521   Prob(JB):                    8.84e-171\n",
      "Kurtosis:                       8.281   Cond. No.                     1.51e+04\n",
      "==============================================================================\n",
      "\n",
      "Notes:\n",
      "[1] Standard Errors assume that the covariance matrix of the errors is correctly specified.\n",
      "[2] The condition number is large, 1.51e+04. This might indicate that there are\n",
      "strong multicollinearity or other numerical problems.\n"
     ]
    }
   ],
   "source": [
    "results = sm.OLS(y, X).fit()\n",
    "print(results.summary())"
   ]
  },
  {
   "cell_type": "markdown",
   "id": "198fd72f-abe0-4923-acb7-88deb4ea5be2",
   "metadata": {},
   "source": [
    "Due to the very low $p$-value of the $F$-statistic, we can conclude that there is a clear relationship between the median house prices and the predictors.\n",
    "\n",
    "2. How strong is the relationship?\n",
    "\n",
    "The $R^2$ is 0.741, indicating that the model can explain over 74% of the variance in the data. The residual standard error using statsmodels is:"
   ]
  },
  {
   "cell_type": "code",
   "execution_count": 9,
   "id": "8673b14c-b300-4e9b-9f50-b246b4e1ca58",
   "metadata": {},
   "outputs": [
    {
     "name": "stdout",
     "output_type": "stream",
     "text": [
      "Residual standard error: 4.745\n"
     ]
    }
   ],
   "source": [
    "print(f'Residual standard error: {round(np.sqrt(results.mse_resid), 3)}')"
   ]
  },
  {
   "cell_type": "markdown",
   "id": "20366539-5dff-4076-8b2b-ba7eb39aefa3",
   "metadata": {},
   "source": [
    "The residual standard error can be alternatively derived from the calculation below."
   ]
  },
  {
   "cell_type": "code",
   "execution_count": 10,
   "id": "16f81885-1dab-4a93-90c6-ebdd8c300b26",
   "metadata": {},
   "outputs": [
    {
     "name": "stdout",
     "output_type": "stream",
     "text": [
      "Residual standard error: 4.745\n"
     ]
    }
   ],
   "source": [
    "print(f'Residual standard error: {round(np.sqrt(((y.values.ravel()-results.fittedvalues)**2).sum()/(y.shape[0]-14)), 3)}')"
   ]
  },
  {
   "cell_type": "code",
   "execution_count": 11,
   "id": "c05662f0-e8a6-4fe3-8c38-bd1c85302974",
   "metadata": {},
   "outputs": [
    {
     "name": "stdout",
     "output_type": "stream",
     "text": [
      "Average median house price: 22.533\n"
     ]
    }
   ],
   "source": [
    "print(f'Average median house price: {round(np.mean(y.values), 3)}')"
   ]
  },
  {
   "cell_type": "code",
   "execution_count": 12,
   "id": "b87c93a2-5ba2-4387-9458-575fbfe176c7",
   "metadata": {},
   "outputs": [
    {
     "name": "stdout",
     "output_type": "stream",
     "text": [
      "Percentage error of the mean: 21.06%\n"
     ]
    }
   ],
   "source": [
    "print(f'Percentage error of the mean: {round(100*(np.sqrt(results.mse_resid)/np.mean(y.values)), 2)}%')"
   ]
  },
  {
   "cell_type": "markdown",
   "id": "eac992a0-0192-4485-a525-ad5930603364",
   "metadata": {},
   "source": [
    "3. Which predictors are associated with the outcome?\n",
    "\n",
    "All predictors except `indus` and `age` have a $p$-value below 0.01, which makes them highly significant. You can see that the confidence interval for `indus` and `age` are consistent with zero, which is further proof that there is no association of these predictors with the median house price."
   ]
  },
  {
   "cell_type": "markdown",
   "id": "6625c393-a2fc-43fa-923e-c69b14791d62",
   "metadata": {},
   "source": [
    "4. How large is the association between the predictors and the outcome?\n",
    "\n",
    "As we can observe below, the fact that the predictors `indus` and `age` have low significance isn't due to _collinearity_. `Intercept` has a high value of collinearity, but it was added to the design matrix `X` so it shouldn't affect our results if it remains."
   ]
  },
  {
   "cell_type": "code",
   "execution_count": 13,
   "id": "c730ab6f-f5eb-451a-9b60-1b46d32ccd45",
   "metadata": {},
   "outputs": [
    {
     "name": "stdout",
     "output_type": "stream",
     "text": [
      "Intercept  585.265\n",
      "crim       1.792\n",
      "zn         2.299\n",
      "indus      3.992\n",
      "chas       1.074\n",
      "nox        4.394\n",
      "rm         1.934\n",
      "age        3.101\n",
      "dis        3.956\n",
      "rad        7.484\n",
      "tax        9.009\n",
      "ptratio    1.799\n",
      "black      1.349\n",
      "lstat      2.941\n"
     ]
    }
   ],
   "source": [
    "from statsmodels.stats import outliers_influence\n",
    "for index, colname in enumerate(X.columns):\n",
    "    print(f'{colname:<10} {round(outliers_influence.variance_inflation_factor(X, index), 3)}')"
   ]
  },
  {
   "cell_type": "markdown",
   "id": "7b83c714-9cfb-47e7-8e31-d83b31e6eae4",
   "metadata": {},
   "source": [
    "If we compute the Student's $t$-test between each predictor and the median house price, we find high significance between the two."
   ]
  },
  {
   "cell_type": "code",
   "execution_count": 55,
   "id": "ff1344fe-631c-477c-a572-fc5d23f6d440",
   "metadata": {},
   "outputs": [
    {
     "name": "stdout",
     "output_type": "stream",
     "text": [
      "crim       5.16       3.555543923736217e-07\n",
      "zn         13.98      8.878239948464716e-38\n",
      "indus      21.595     9.550829647121718e-74\n",
      "chas       7.259      1.4829062489644311e-12\n",
      "nox        40.319     5.5328434496052754e-160\n",
      "rm         67.93      3.743758187855038e-256\n",
      "age        30.25      1.8485504970030306e-115\n",
      "dis        37.149     1.5152578191283432e-146\n",
      "rad        16.316     2.2463761154127937e-48\n",
      "tax        28.818     1.0262258453241314e-108\n",
      "ptratio    45.698     1.5103603110685885e-181\n",
      "black      56.105     3.98926958155879e-219\n",
      "lstat      20.271     2.7141948125197922e-67\n"
     ]
    }
   ],
   "source": [
    "columns = X.columns[1:]\n",
    "for colname in columns:\n",
    "    results = sm.OLS(y, X.loc[:, colname]).fit()\n",
    "    print(f'{colname:<10} {round(results.tvalues.values[0], 3):<10} {results.pvalues.values[0]}')"
   ]
  },
  {
   "cell_type": "code",
   "execution_count": null,
   "id": "84ebe51f-3483-4812-a172-45c5142b8145",
   "metadata": {},
   "outputs": [],
   "source": []
  }
 ],
 "metadata": {
  "kernelspec": {
   "display_name": "Python 3 (ipykernel)",
   "language": "python",
   "name": "python3"
  },
  "language_info": {
   "codemirror_mode": {
    "name": "ipython",
    "version": 3
   },
   "file_extension": ".py",
   "mimetype": "text/x-python",
   "name": "python",
   "nbconvert_exporter": "python",
   "pygments_lexer": "ipython3",
   "version": "3.8.12"
  }
 },
 "nbformat": 4,
 "nbformat_minor": 5
}
