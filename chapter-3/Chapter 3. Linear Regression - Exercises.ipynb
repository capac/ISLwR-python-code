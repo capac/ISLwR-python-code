{
 "cells": [
  {
   "cell_type": "markdown",
   "id": "e2f504e2-0b2d-4b53-b524-a4b07e0c2277",
   "metadata": {},
   "source": [
    "# Chapter 3. Linear Regression - Exercises\n",
    "\n",
    "- [3.7 Exercises: Linear regression](#Exercises:-Linear-regression)\n",
    "    - Exercise 8.\n",
    "        - (a)\n",
    "            - [Is there a relationship between the predictor (horsepower) and the response (mpg)?](#Is-there-a-relationship-between-the-predictor-(horsepower)-and-the-response-(mpg)?)\n",
    "            - [How strong is the relationship between the predictor (horsepower) and the response (mpg)?](#How-strong-is-the-relationship-between-the-predictor-(horsepower)-and-the-response-(mpg)?)\n",
    "            - [Is the relationship between the predictor (horsepower) and the response (mpg) positive or negative?](#Is-the-relationship-between-the-predictor-(horsepower)-and-the-response-(mpg)-positive-or-negative?)\n",
    "            - [What is the predicted (mpg) associated with a (horsepower) of 98? What are the associated prediction and confidence intervals?](#What-is-the-predicted-(mpg)-associated-with-a-(horsepower)-of-98?-What-are-the-associated-prediction-and-confidence-intervals?)\n",
    "        - (b)\n",
    "            - [Plot of response (mpg) versus predictor (horsepower)](#Plot-of-response-(mpg)-versus-predictor-(horsepower))\n",
    "            - [Plot of residuals versus predictor (horsepower)](#Plot-of-residuals-versus-predictor-(horsepower))"
   ]
  },
  {
   "cell_type": "markdown",
   "id": "ca184092-8659-4157-83f0-417dafcae4bb",
   "metadata": {},
   "source": [
    "## Exercises: Linear regression"
   ]
  },
  {
   "cell_type": "code",
   "execution_count": 1,
   "id": "c561b1bc-e1e1-4110-8a2a-78de1cf9934b",
   "metadata": {},
   "outputs": [],
   "source": [
    "import pandas as pd\n",
    "import numpy as np\n",
    "import matplotlib.pyplot as plt\n",
    "import seaborn as sb\n",
    "import statsmodels.api as sm\n",
    "from patsy import dmatrices"
   ]
  },
  {
   "cell_type": "code",
   "execution_count": 2,
   "id": "17c50cf8-34ec-4254-a490-b680fd6dce94",
   "metadata": {},
   "outputs": [],
   "source": [
    "auto_df = pd.read_csv('../data/auto.csv', na_values='?')"
   ]
  },
  {
   "cell_type": "code",
   "execution_count": 3,
   "id": "277f9960-da2f-4787-92d0-1c3cf33266c0",
   "metadata": {},
   "outputs": [
    {
     "data": {
      "text/html": [
       "<div>\n",
       "<style scoped>\n",
       "    .dataframe tbody tr th:only-of-type {\n",
       "        vertical-align: middle;\n",
       "    }\n",
       "\n",
       "    .dataframe tbody tr th {\n",
       "        vertical-align: top;\n",
       "    }\n",
       "\n",
       "    .dataframe thead th {\n",
       "        text-align: right;\n",
       "    }\n",
       "</style>\n",
       "<table border=\"1\" class=\"dataframe\">\n",
       "  <thead>\n",
       "    <tr style=\"text-align: right;\">\n",
       "      <th></th>\n",
       "      <th>mpg</th>\n",
       "      <th>cylinders</th>\n",
       "      <th>displacement</th>\n",
       "      <th>horsepower</th>\n",
       "      <th>weight</th>\n",
       "      <th>acceleration</th>\n",
       "      <th>year</th>\n",
       "      <th>origin</th>\n",
       "      <th>name</th>\n",
       "    </tr>\n",
       "  </thead>\n",
       "  <tbody>\n",
       "    <tr>\n",
       "      <th>0</th>\n",
       "      <td>18.0</td>\n",
       "      <td>8</td>\n",
       "      <td>307.0</td>\n",
       "      <td>130.0</td>\n",
       "      <td>3504</td>\n",
       "      <td>12.0</td>\n",
       "      <td>70</td>\n",
       "      <td>1</td>\n",
       "      <td>chevrolet chevelle malibu</td>\n",
       "    </tr>\n",
       "    <tr>\n",
       "      <th>1</th>\n",
       "      <td>15.0</td>\n",
       "      <td>8</td>\n",
       "      <td>350.0</td>\n",
       "      <td>165.0</td>\n",
       "      <td>3693</td>\n",
       "      <td>11.5</td>\n",
       "      <td>70</td>\n",
       "      <td>1</td>\n",
       "      <td>buick skylark 320</td>\n",
       "    </tr>\n",
       "    <tr>\n",
       "      <th>2</th>\n",
       "      <td>18.0</td>\n",
       "      <td>8</td>\n",
       "      <td>318.0</td>\n",
       "      <td>150.0</td>\n",
       "      <td>3436</td>\n",
       "      <td>11.0</td>\n",
       "      <td>70</td>\n",
       "      <td>1</td>\n",
       "      <td>plymouth satellite</td>\n",
       "    </tr>\n",
       "    <tr>\n",
       "      <th>3</th>\n",
       "      <td>16.0</td>\n",
       "      <td>8</td>\n",
       "      <td>304.0</td>\n",
       "      <td>150.0</td>\n",
       "      <td>3433</td>\n",
       "      <td>12.0</td>\n",
       "      <td>70</td>\n",
       "      <td>1</td>\n",
       "      <td>amc rebel sst</td>\n",
       "    </tr>\n",
       "    <tr>\n",
       "      <th>4</th>\n",
       "      <td>17.0</td>\n",
       "      <td>8</td>\n",
       "      <td>302.0</td>\n",
       "      <td>140.0</td>\n",
       "      <td>3449</td>\n",
       "      <td>10.5</td>\n",
       "      <td>70</td>\n",
       "      <td>1</td>\n",
       "      <td>ford torino</td>\n",
       "    </tr>\n",
       "  </tbody>\n",
       "</table>\n",
       "</div>"
      ],
      "text/plain": [
       "    mpg  cylinders  displacement  horsepower  weight  acceleration  year  \\\n",
       "0  18.0          8         307.0       130.0    3504          12.0    70   \n",
       "1  15.0          8         350.0       165.0    3693          11.5    70   \n",
       "2  18.0          8         318.0       150.0    3436          11.0    70   \n",
       "3  16.0          8         304.0       150.0    3433          12.0    70   \n",
       "4  17.0          8         302.0       140.0    3449          10.5    70   \n",
       "\n",
       "   origin                       name  \n",
       "0       1  chevrolet chevelle malibu  \n",
       "1       1          buick skylark 320  \n",
       "2       1         plymouth satellite  \n",
       "3       1              amc rebel sst  \n",
       "4       1                ford torino  "
      ]
     },
     "execution_count": 3,
     "metadata": {},
     "output_type": "execute_result"
    }
   ],
   "source": [
    "auto_df.head()"
   ]
  },
  {
   "cell_type": "code",
   "execution_count": 4,
   "id": "e7384bf1-a39b-4314-89f5-cb61bb1961ca",
   "metadata": {},
   "outputs": [
    {
     "name": "stdout",
     "output_type": "stream",
     "text": [
      "<class 'pandas.core.frame.DataFrame'>\n",
      "RangeIndex: 397 entries, 0 to 396\n",
      "Data columns (total 9 columns):\n",
      " #   Column        Non-Null Count  Dtype  \n",
      "---  ------        --------------  -----  \n",
      " 0   mpg           397 non-null    float64\n",
      " 1   cylinders     397 non-null    int64  \n",
      " 2   displacement  397 non-null    float64\n",
      " 3   horsepower    392 non-null    float64\n",
      " 4   weight        397 non-null    int64  \n",
      " 5   acceleration  397 non-null    float64\n",
      " 6   year          397 non-null    int64  \n",
      " 7   origin        397 non-null    int64  \n",
      " 8   name          397 non-null    object \n",
      "dtypes: float64(4), int64(4), object(1)\n",
      "memory usage: 28.0+ KB\n"
     ]
    }
   ],
   "source": [
    "auto_df.info()"
   ]
  },
  {
   "cell_type": "code",
   "execution_count": 5,
   "id": "f4edd4e6-f440-4974-a495-8a8619e1acc0",
   "metadata": {},
   "outputs": [
    {
     "data": {
      "text/html": [
       "<div>\n",
       "<style scoped>\n",
       "    .dataframe tbody tr th:only-of-type {\n",
       "        vertical-align: middle;\n",
       "    }\n",
       "\n",
       "    .dataframe tbody tr th {\n",
       "        vertical-align: top;\n",
       "    }\n",
       "\n",
       "    .dataframe thead th {\n",
       "        text-align: right;\n",
       "    }\n",
       "</style>\n",
       "<table border=\"1\" class=\"dataframe\">\n",
       "  <thead>\n",
       "    <tr style=\"text-align: right;\">\n",
       "      <th></th>\n",
       "      <th>mpg</th>\n",
       "      <th>cylinders</th>\n",
       "      <th>displacement</th>\n",
       "      <th>horsepower</th>\n",
       "      <th>weight</th>\n",
       "      <th>acceleration</th>\n",
       "      <th>year</th>\n",
       "      <th>origin</th>\n",
       "    </tr>\n",
       "  </thead>\n",
       "  <tbody>\n",
       "    <tr>\n",
       "      <th>count</th>\n",
       "      <td>397.00</td>\n",
       "      <td>397.00</td>\n",
       "      <td>397.00</td>\n",
       "      <td>392.00</td>\n",
       "      <td>397.00</td>\n",
       "      <td>397.00</td>\n",
       "      <td>397.00</td>\n",
       "      <td>397.00</td>\n",
       "    </tr>\n",
       "    <tr>\n",
       "      <th>mean</th>\n",
       "      <td>23.52</td>\n",
       "      <td>5.46</td>\n",
       "      <td>193.53</td>\n",
       "      <td>104.47</td>\n",
       "      <td>2970.26</td>\n",
       "      <td>15.56</td>\n",
       "      <td>75.99</td>\n",
       "      <td>1.57</td>\n",
       "    </tr>\n",
       "    <tr>\n",
       "      <th>std</th>\n",
       "      <td>7.83</td>\n",
       "      <td>1.70</td>\n",
       "      <td>104.38</td>\n",
       "      <td>38.49</td>\n",
       "      <td>847.90</td>\n",
       "      <td>2.75</td>\n",
       "      <td>3.69</td>\n",
       "      <td>0.80</td>\n",
       "    </tr>\n",
       "    <tr>\n",
       "      <th>min</th>\n",
       "      <td>9.00</td>\n",
       "      <td>3.00</td>\n",
       "      <td>68.00</td>\n",
       "      <td>46.00</td>\n",
       "      <td>1613.00</td>\n",
       "      <td>8.00</td>\n",
       "      <td>70.00</td>\n",
       "      <td>1.00</td>\n",
       "    </tr>\n",
       "    <tr>\n",
       "      <th>25%</th>\n",
       "      <td>17.50</td>\n",
       "      <td>4.00</td>\n",
       "      <td>104.00</td>\n",
       "      <td>75.00</td>\n",
       "      <td>2223.00</td>\n",
       "      <td>13.80</td>\n",
       "      <td>73.00</td>\n",
       "      <td>1.00</td>\n",
       "    </tr>\n",
       "    <tr>\n",
       "      <th>50%</th>\n",
       "      <td>23.00</td>\n",
       "      <td>4.00</td>\n",
       "      <td>146.00</td>\n",
       "      <td>93.50</td>\n",
       "      <td>2800.00</td>\n",
       "      <td>15.50</td>\n",
       "      <td>76.00</td>\n",
       "      <td>1.00</td>\n",
       "    </tr>\n",
       "    <tr>\n",
       "      <th>75%</th>\n",
       "      <td>29.00</td>\n",
       "      <td>8.00</td>\n",
       "      <td>262.00</td>\n",
       "      <td>126.00</td>\n",
       "      <td>3609.00</td>\n",
       "      <td>17.10</td>\n",
       "      <td>79.00</td>\n",
       "      <td>2.00</td>\n",
       "    </tr>\n",
       "    <tr>\n",
       "      <th>max</th>\n",
       "      <td>46.60</td>\n",
       "      <td>8.00</td>\n",
       "      <td>455.00</td>\n",
       "      <td>230.00</td>\n",
       "      <td>5140.00</td>\n",
       "      <td>24.80</td>\n",
       "      <td>82.00</td>\n",
       "      <td>3.00</td>\n",
       "    </tr>\n",
       "  </tbody>\n",
       "</table>\n",
       "</div>"
      ],
      "text/plain": [
       "          mpg cylinders displacement horsepower   weight acceleration    year  \\\n",
       "count  397.00    397.00       397.00     392.00   397.00       397.00  397.00   \n",
       "mean    23.52      5.46       193.53     104.47  2970.26        15.56   75.99   \n",
       "std      7.83      1.70       104.38      38.49   847.90         2.75    3.69   \n",
       "min      9.00      3.00        68.00      46.00  1613.00         8.00   70.00   \n",
       "25%     17.50      4.00       104.00      75.00  2223.00        13.80   73.00   \n",
       "50%     23.00      4.00       146.00      93.50  2800.00        15.50   76.00   \n",
       "75%     29.00      8.00       262.00     126.00  3609.00        17.10   79.00   \n",
       "max     46.60      8.00       455.00     230.00  5140.00        24.80   82.00   \n",
       "\n",
       "       origin  \n",
       "count  397.00  \n",
       "mean     1.57  \n",
       "std      0.80  \n",
       "min      1.00  \n",
       "25%      1.00  \n",
       "50%      1.00  \n",
       "75%      2.00  \n",
       "max      3.00  "
      ]
     },
     "execution_count": 5,
     "metadata": {},
     "output_type": "execute_result"
    }
   ],
   "source": [
    "auto_df.describe().applymap('{:.2f}'.format)"
   ]
  },
  {
   "cell_type": "code",
   "execution_count": 6,
   "id": "c69f153e-37d1-4ecf-bfab-abf00caeed6c",
   "metadata": {},
   "outputs": [
    {
     "name": "stdout",
     "output_type": "stream",
     "text": [
      "<class 'pandas.core.frame.DataFrame'>\n",
      "Int64Index: 392 entries, 0 to 396\n",
      "Data columns (total 9 columns):\n",
      " #   Column        Non-Null Count  Dtype  \n",
      "---  ------        --------------  -----  \n",
      " 0   mpg           392 non-null    float64\n",
      " 1   cylinders     392 non-null    int64  \n",
      " 2   displacement  392 non-null    float64\n",
      " 3   horsepower    392 non-null    int64  \n",
      " 4   weight        392 non-null    int64  \n",
      " 5   acceleration  392 non-null    float64\n",
      " 6   year          392 non-null    int64  \n",
      " 7   origin        392 non-null    int64  \n",
      " 8   name          392 non-null    object \n",
      "dtypes: float64(3), int64(5), object(1)\n",
      "memory usage: 30.6+ KB\n"
     ]
    }
   ],
   "source": [
    "auto_df.dropna(inplace=True)\n",
    "auto_df.horsepower = auto_df.horsepower.astype('int')\n",
    "auto_df.info()"
   ]
  },
  {
   "cell_type": "code",
   "execution_count": 7,
   "id": "1a4704db-55d1-46ed-97b0-69214340a51b",
   "metadata": {},
   "outputs": [
    {
     "data": {
      "text/html": [
       "<div>\n",
       "<style scoped>\n",
       "    .dataframe tbody tr th:only-of-type {\n",
       "        vertical-align: middle;\n",
       "    }\n",
       "\n",
       "    .dataframe tbody tr th {\n",
       "        vertical-align: top;\n",
       "    }\n",
       "\n",
       "    .dataframe thead th {\n",
       "        text-align: right;\n",
       "    }\n",
       "</style>\n",
       "<table border=\"1\" class=\"dataframe\">\n",
       "  <thead>\n",
       "    <tr style=\"text-align: right;\">\n",
       "      <th></th>\n",
       "      <th>mpg</th>\n",
       "      <th>cylinders</th>\n",
       "      <th>displacement</th>\n",
       "      <th>horsepower</th>\n",
       "      <th>weight</th>\n",
       "      <th>acceleration</th>\n",
       "      <th>year</th>\n",
       "      <th>origin</th>\n",
       "    </tr>\n",
       "  </thead>\n",
       "  <tbody>\n",
       "    <tr>\n",
       "      <th>count</th>\n",
       "      <td>392.00</td>\n",
       "      <td>392.00</td>\n",
       "      <td>392.00</td>\n",
       "      <td>392.00</td>\n",
       "      <td>392.00</td>\n",
       "      <td>392.00</td>\n",
       "      <td>392.00</td>\n",
       "      <td>392.00</td>\n",
       "    </tr>\n",
       "    <tr>\n",
       "      <th>mean</th>\n",
       "      <td>23.45</td>\n",
       "      <td>5.47</td>\n",
       "      <td>194.41</td>\n",
       "      <td>104.47</td>\n",
       "      <td>2977.58</td>\n",
       "      <td>15.54</td>\n",
       "      <td>75.98</td>\n",
       "      <td>1.58</td>\n",
       "    </tr>\n",
       "    <tr>\n",
       "      <th>std</th>\n",
       "      <td>7.81</td>\n",
       "      <td>1.71</td>\n",
       "      <td>104.64</td>\n",
       "      <td>38.49</td>\n",
       "      <td>849.40</td>\n",
       "      <td>2.76</td>\n",
       "      <td>3.68</td>\n",
       "      <td>0.81</td>\n",
       "    </tr>\n",
       "    <tr>\n",
       "      <th>min</th>\n",
       "      <td>9.00</td>\n",
       "      <td>3.00</td>\n",
       "      <td>68.00</td>\n",
       "      <td>46.00</td>\n",
       "      <td>1613.00</td>\n",
       "      <td>8.00</td>\n",
       "      <td>70.00</td>\n",
       "      <td>1.00</td>\n",
       "    </tr>\n",
       "    <tr>\n",
       "      <th>25%</th>\n",
       "      <td>17.00</td>\n",
       "      <td>4.00</td>\n",
       "      <td>105.00</td>\n",
       "      <td>75.00</td>\n",
       "      <td>2225.25</td>\n",
       "      <td>13.78</td>\n",
       "      <td>73.00</td>\n",
       "      <td>1.00</td>\n",
       "    </tr>\n",
       "    <tr>\n",
       "      <th>50%</th>\n",
       "      <td>22.75</td>\n",
       "      <td>4.00</td>\n",
       "      <td>151.00</td>\n",
       "      <td>93.50</td>\n",
       "      <td>2803.50</td>\n",
       "      <td>15.50</td>\n",
       "      <td>76.00</td>\n",
       "      <td>1.00</td>\n",
       "    </tr>\n",
       "    <tr>\n",
       "      <th>75%</th>\n",
       "      <td>29.00</td>\n",
       "      <td>8.00</td>\n",
       "      <td>275.75</td>\n",
       "      <td>126.00</td>\n",
       "      <td>3614.75</td>\n",
       "      <td>17.02</td>\n",
       "      <td>79.00</td>\n",
       "      <td>2.00</td>\n",
       "    </tr>\n",
       "    <tr>\n",
       "      <th>max</th>\n",
       "      <td>46.60</td>\n",
       "      <td>8.00</td>\n",
       "      <td>455.00</td>\n",
       "      <td>230.00</td>\n",
       "      <td>5140.00</td>\n",
       "      <td>24.80</td>\n",
       "      <td>82.00</td>\n",
       "      <td>3.00</td>\n",
       "    </tr>\n",
       "  </tbody>\n",
       "</table>\n",
       "</div>"
      ],
      "text/plain": [
       "          mpg cylinders displacement horsepower   weight acceleration    year  \\\n",
       "count  392.00    392.00       392.00     392.00   392.00       392.00  392.00   \n",
       "mean    23.45      5.47       194.41     104.47  2977.58        15.54   75.98   \n",
       "std      7.81      1.71       104.64      38.49   849.40         2.76    3.68   \n",
       "min      9.00      3.00        68.00      46.00  1613.00         8.00   70.00   \n",
       "25%     17.00      4.00       105.00      75.00  2225.25        13.78   73.00   \n",
       "50%     22.75      4.00       151.00      93.50  2803.50        15.50   76.00   \n",
       "75%     29.00      8.00       275.75     126.00  3614.75        17.02   79.00   \n",
       "max     46.60      8.00       455.00     230.00  5140.00        24.80   82.00   \n",
       "\n",
       "       origin  \n",
       "count  392.00  \n",
       "mean     1.58  \n",
       "std      0.81  \n",
       "min      1.00  \n",
       "25%      1.00  \n",
       "50%      1.00  \n",
       "75%      2.00  \n",
       "max      3.00  "
      ]
     },
     "execution_count": 7,
     "metadata": {},
     "output_type": "execute_result"
    }
   ],
   "source": [
    "auto_df.describe().applymap('{:.2f}'.format)"
   ]
  },
  {
   "cell_type": "markdown",
   "id": "a321f3d6-e72b-419c-b9df-c213b9d1bf10",
   "metadata": {},
   "source": [
    "### Is there a relationship between the predictor (horsepower) and the response (mpg)?"
   ]
  },
  {
   "cell_type": "code",
   "execution_count": 8,
   "id": "e6708e4a-7f6f-480e-8fad-5011d17201c4",
   "metadata": {},
   "outputs": [],
   "source": [
    "y, X = dmatrices('mpg ~ horsepower', return_type='dataframe', data=auto_df)"
   ]
  },
  {
   "cell_type": "code",
   "execution_count": 9,
   "id": "ec9653c5-2418-4b36-a93c-e5594989ca69",
   "metadata": {},
   "outputs": [
    {
     "name": "stdout",
     "output_type": "stream",
     "text": [
      "                            OLS Regression Results                            \n",
      "==============================================================================\n",
      "Dep. Variable:                    mpg   R-squared:                       0.606\n",
      "Model:                            OLS   Adj. R-squared:                  0.605\n",
      "Method:                 Least Squares   F-statistic:                     599.7\n",
      "Date:                Sat, 22 Jan 2022   Prob (F-statistic):           7.03e-81\n",
      "Time:                        10:20:49   Log-Likelihood:                -1178.7\n",
      "No. Observations:                 392   AIC:                             2361.\n",
      "Df Residuals:                     390   BIC:                             2369.\n",
      "Df Model:                           1                                         \n",
      "Covariance Type:            nonrobust                                         \n",
      "==============================================================================\n",
      "                 coef    std err          t      P>|t|      [0.025      0.975]\n",
      "------------------------------------------------------------------------------\n",
      "Intercept     39.9359      0.717     55.660      0.000      38.525      41.347\n",
      "horsepower    -0.1578      0.006    -24.489      0.000      -0.171      -0.145\n",
      "==============================================================================\n",
      "Omnibus:                       16.432   Durbin-Watson:                   0.920\n",
      "Prob(Omnibus):                  0.000   Jarque-Bera (JB):               17.305\n",
      "Skew:                           0.492   Prob(JB):                     0.000175\n",
      "Kurtosis:                       3.299   Cond. No.                         322.\n",
      "==============================================================================\n",
      "\n",
      "Notes:\n",
      "[1] Standard Errors assume that the covariance matrix of the errors is correctly specified.\n"
     ]
    }
   ],
   "source": [
    "results = sm.OLS(y, X).fit()\n",
    "print(results.summary())"
   ]
  },
  {
   "cell_type": "markdown",
   "id": "02d2fc6c-49c6-4251-9803-3c30d6c6fccc",
   "metadata": {},
   "source": [
    "Due to the large $F$-statistics and very low corresponding $p$-value, we can safely say there is a strong relationship between the predictor and response."
   ]
  },
  {
   "cell_type": "markdown",
   "id": "9e9a1fe3-7546-4d90-adc9-828233039b77",
   "metadata": {},
   "source": [
    "### How strong is the relationship between the predictor (horsepower) and the response (mpg)?\n",
    "\n",
    "The linear model accounts for about 60% of the variance in the data."
   ]
  },
  {
   "cell_type": "code",
   "execution_count": 10,
   "id": "c8cee15a-d3b4-4085-812f-88b430116d93",
   "metadata": {},
   "outputs": [
    {
     "name": "stdout",
     "output_type": "stream",
     "text": [
      "The average response for MPG is 23.45.\n",
      "The residual standard error for the data is 4.91.\n",
      "The percentage error for the mean is 20.92%.\n"
     ]
    }
   ],
   "source": [
    "avg = np.mean(auto_df.mpg.values)\n",
    "print(f'The average response for MPG is {round(avg, 2)}.')\n",
    "rse = np.sqrt(results.mse_resid)\n",
    "print(f'The residual standard error for the data is {round(rse, 2)}.')\n",
    "print(f'The percentage error for the mean is {round(100*rse/avg, 2)}%.')"
   ]
  },
  {
   "cell_type": "markdown",
   "id": "e413ad8c-4dbe-4604-a335-22ab5c86244d",
   "metadata": {},
   "source": [
    "The percentage error on the mean response is just under 21%."
   ]
  },
  {
   "cell_type": "markdown",
   "id": "5045ff59-aab2-4785-a245-4a788be7ef6f",
   "metadata": {},
   "source": [
    "### Is the relationship between the predictor (horsepower) and the response (mpg) positive or negative?\n",
    "\n",
    "The coefficient of horsepower is negative, so an increase in one unit of horsepower causes a decrease in MPG."
   ]
  },
  {
   "cell_type": "markdown",
   "id": "356e9265-3139-4a9a-ba8a-bf15cee72725",
   "metadata": {},
   "source": [
    "### What is the predicted (mpg) associated with a (horsepower) of 98? What are the associated prediction and confidence intervals?"
   ]
  },
  {
   "cell_type": "code",
   "execution_count": 11,
   "id": "35567758-b08c-4ffb-bc41-7ba34bf507b9",
   "metadata": {},
   "outputs": [
    {
     "data": {
      "text/html": [
       "<div>\n",
       "<style scoped>\n",
       "    .dataframe tbody tr th:only-of-type {\n",
       "        vertical-align: middle;\n",
       "    }\n",
       "\n",
       "    .dataframe tbody tr th {\n",
       "        vertical-align: top;\n",
       "    }\n",
       "\n",
       "    .dataframe thead th {\n",
       "        text-align: right;\n",
       "    }\n",
       "</style>\n",
       "<table border=\"1\" class=\"dataframe\">\n",
       "  <thead>\n",
       "    <tr style=\"text-align: right;\">\n",
       "      <th></th>\n",
       "      <th>mean</th>\n",
       "      <th>mean_se</th>\n",
       "      <th>mean_ci_lower</th>\n",
       "      <th>mean_ci_upper</th>\n",
       "      <th>obs_ci_lower</th>\n",
       "      <th>obs_ci_upper</th>\n",
       "    </tr>\n",
       "  </thead>\n",
       "  <tbody>\n",
       "    <tr>\n",
       "      <th>0</th>\n",
       "      <td>24.467077</td>\n",
       "      <td>0.251262</td>\n",
       "      <td>23.973079</td>\n",
       "      <td>24.961075</td>\n",
       "      <td>14.809396</td>\n",
       "      <td>34.124758</td>\n",
       "    </tr>\n",
       "  </tbody>\n",
       "</table>\n",
       "</div>"
      ],
      "text/plain": [
       "        mean   mean_se  mean_ci_lower  mean_ci_upper  obs_ci_lower  \\\n",
       "0  24.467077  0.251262      23.973079      24.961075     14.809396   \n",
       "\n",
       "   obs_ci_upper  \n",
       "0     34.124758  "
      ]
     },
     "execution_count": 11,
     "metadata": {},
     "output_type": "execute_result"
    }
   ],
   "source": [
    "pred = results.get_prediction([1, 98])\n",
    "pred.summary_frame(alpha=0.05)"
   ]
  },
  {
   "cell_type": "markdown",
   "id": "585c5011-df44-4365-a7af-d06a91c49d54",
   "metadata": {},
   "source": [
    "The predicted value for MPG with a horsepower of 98 is 24.467, which is also confirmed in R. The first interval above is the confidence interval while the second is the prediction interval."
   ]
  },
  {
   "cell_type": "markdown",
   "id": "81b7f513-81b3-4557-b2a6-02eee8b7fe70",
   "metadata": {},
   "source": [
    "### Plot of response (mpg) versus predictor (horsepower)"
   ]
  },
  {
   "cell_type": "code",
   "execution_count": 12,
   "id": "bc9ed800-6b32-40b8-9493-1c1f62d02f82",
   "metadata": {},
   "outputs": [
    {
     "data": {
      "image/png": "[encoded data removed]",
      "text/plain": [
       "<Figure size 720x576 with 1 Axes>"
      ]
     },
     "metadata": {
      "needs_background": "light"
     },
     "output_type": "display_data"
    }
   ],
   "source": [
    "fig, axes = plt.subplots(figsize=(10, 8))\n",
    "sb.regplot(x='horsepower', y='mpg', data=auto_df, ci=95, scatter_kws = {'alpha': 0.6, 'facecolor': 'dodgerblue'}, \\\n",
    "           line_kws = {'color': 'k', 'linestyle': '--'}, ax=axes)\n",
    "plt.grid(True)\n",
    "axes.set_xlabel('Horsepower', fontsize=14)\n",
    "axes.set_ylabel('MPG', fontsize=14)\n",
    "axes.set_title('MPG vs Horsepower', fontsize=16)\n",
    "plt.tight_layout();"
   ]
  },
  {
   "cell_type": "markdown",
   "id": "b43ed614-8290-4dd1-8961-8e35db23201d",
   "metadata": {},
   "source": [
    "### Plot of residuals versus predictor (horsepower)"
   ]
  },
  {
   "cell_type": "code",
   "execution_count": 13,
   "id": "83efcb12-7b57-4e5f-ad6c-1596795520ac",
   "metadata": {},
   "outputs": [
    {
     "data": {
      "image/png": "[encoded data removed]",
      "text/plain": [
       "<Figure size 720x576 with 1 Axes>"
      ]
     },
     "metadata": {
      "needs_background": "light"
     },
     "output_type": "display_data"
    }
   ],
   "source": [
    "fig, axes = plt.subplots(figsize=(10, 8))\n",
    "resid = auto_df.mpg-results.fittedvalues\n",
    "sb.regplot(x='horsepower', y=resid, data=auto_df, ci=95, \\\n",
    "           scatter_kws = {'alpha': 0.6, 'facecolor': 'dodgerblue'}, \\\n",
    "           line_kws = {'color': 'k', 'linestyle': '--'}, ax=axes)\n",
    "plt.grid(True)\n",
    "axes.set_xlabel('Horsepower', fontsize=14)\n",
    "axes.set_ylabel('Residuals', fontsize=14)\n",
    "axes.set_title('Residuals vs Horsepower', fontsize=16)\n",
    "plt.tight_layout();"
   ]
  },
  {
   "cell_type": "markdown",
   "id": "ca46ffe4-d039-40d2-8ae4-98fbfd682866",
   "metadata": {},
   "source": [
    "There seems to be a clear pattern in the residual plot, so a linear model doesn't seem to be the right fit."
   ]
  },
  {
   "cell_type": "code",
   "execution_count": null,
   "id": "37f18d80-9e44-4b95-9ac6-bded6d625b29",
   "metadata": {},
   "outputs": [],
   "source": []
  }
 ],
 "metadata": {
  "kernelspec": {
   "display_name": "Python 3 (ipykernel)",
   "language": "python",
   "name": "python3"
  },
  "language_info": {
   "codemirror_mode": {
    "name": "ipython",
    "version": 3
   },
   "file_extension": ".py",
   "mimetype": "text/x-python",
   "name": "python",
   "nbconvert_exporter": "python",
   "pygments_lexer": "ipython3",
   "version": "3.8.12"
  }
 },
 "nbformat": 4,
 "nbformat_minor": 5
}
